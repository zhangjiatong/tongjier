{
 "cells": [
  {
   "cell_type": "code",
   "execution_count": 1,
   "metadata": {},
   "outputs": [
    {
     "name": "stdout",
     "output_type": "stream",
     "text": [
      "1.0 5.0 12.0 22.0 35.0 51.0 70.0 92.0 117.0 145.0\n",
      "176.0 210.0 247.0 287.0 330.0 376.0 425.0 477.0 532.0 590.0\n",
      "651.0 715.0 782.0 852.0 925.0 1001.0 1080.0 1162.0 1247.0 1335.0\n",
      "1426.0 1520.0 1617.0 1717.0 1820.0 1926.0 2035.0 2147.0 2262.0 2380.0\n",
      "2501.0 2625.0 2752.0 2882.0 3015.0 3151.0 3290.0 3432.0 3577.0 3725.0\n",
      "3876.0 4030.0 4187.0 4347.0 4510.0 4676.0 4845.0 5017.0 5192.0 5370.0\n",
      "5551.0 5735.0 5922.0 6112.0 6305.0 6501.0 6700.0 6902.0 7107.0 7315.0\n",
      "7526.0 7740.0 7957.0 8177.0 8400.0 8626.0 8855.0 9087.0 9322.0 9560.0\n",
      "9801.0 10045.0 10292.0 10542.0 10795.0 11051.0 11310.0 11572.0 11837.0 12105.0\n",
      "12376.0 12650.0 12927.0 13207.0 13490.0 13776.0 14065.0 14357.0 14652.0 14950.0\n"
     ]
    }
   ],
   "source": [
    "def getPentagonalNumber(n):\n",
    "    c = n*(3*n-1)/2\n",
    "    if n%10 !=0:\n",
    "        print(c,end=' ')\n",
    "    else:\n",
    "        print(c)\n",
    "        \n",
    "for i in range(1,101):\n",
    "    getPentagonalNumber(i)"
   ]
  },
  {
   "cell_type": "code",
   "execution_count": 19,
   "metadata": {},
   "outputs": [
    {
     "name": "stdout",
     "output_type": "stream",
     "text": [
      "365天\n"
     ]
    }
   ],
   "source": [
    "def numberofdaysinayear(year):\n",
    "    if((year%4 == 0 and year%100 != 0) or (year % 400 ==0)):\n",
    "        print(\"366天\")\n",
    "    else:\n",
    "        print(\"365天\")\n",
    "numberofdaysinayear(2007)"
   ]
  },
  {
   "cell_type": "code",
   "execution_count": 27,
   "metadata": {
    "scrolled": true
   },
   "outputs": [],
   "source": [
    "def printChars(i,z,numberPerLine):\n",
    "    for a in range(ord('i'),ord('z') + 1):\n",
    "        print(chr(i),end=\"\")\n",
    "    list=map(chr,range(ord('i'),ord('z') + 1))\n",
    "    for i in list:\n",
    "        print(i,end='')\n",
    "         "
   ]
  },
  {
   "cell_type": "code",
   "execution_count": 49,
   "metadata": {},
   "outputs": [
    {
     "name": "stdout",
     "output_type": "stream",
     "text": [
      "相等\n"
     ]
    }
   ],
   "source": [
    "def displaySortedNumbers(num1,num2,num3):\n",
    "    if(num1>num2 and num1>num3 and num2>num3):\n",
    "        print(num1,num2,num3)\n",
    "    elif(num1>num2 and num1>num3 and num3>num2):\n",
    "        print(num1,num3,num2)\n",
    "    elif(num2>num1 and num2>num3 and num1>num3):\n",
    "        print(num2,num1,num3)\n",
    "    elif(num2>num1 and num2>num3 and num3>num1):\n",
    "        print(num2,num3,num1)\n",
    "    elif(num3>num1 and num3>num2 and num1>num2):\n",
    "        print(num3,num1,num2)\n",
    "    elif(num3>num2 and num3>num1 and num2>num1):\n",
    "        print(num3,num2,num1)\n",
    "    else:\n",
    "        print('相等')\n",
    "displaySortedNumbers(40,40,40)\n",
    "    \n",
    "  "
   ]
  },
  {
   "cell_type": "code",
   "execution_count": 46,
   "metadata": {},
   "outputs": [
    {
     "name": "stdout",
     "output_type": "stream",
     "text": [
      "10\n"
     ]
    }
   ],
   "source": [
    "def sumDigits(n):\n",
    "    a=n\n",
    "    w=0\n",
    "    for i in range(0,len(str(a))):\n",
    "        if i<len(str(a)):\n",
    "            q = n%10\n",
    "            n = n//10\n",
    "        w = w + q\n",
    "    print(w)\n",
    "sumDigits(4123)"
   ]
  },
  {
   "cell_type": "code",
   "execution_count": 1,
   "metadata": {},
   "outputs": [
    {
     "name": "stdout",
     "output_type": "stream",
     "text": [
      "输入一个数：123\n"
     ]
    },
    {
     "data": {
      "text/plain": [
       "6"
      ]
     },
     "execution_count": 1,
     "metadata": {},
     "output_type": "execute_result"
    }
   ],
   "source": [
    "def sumDigits(n):\n",
    "    g=n%10\n",
    "    s=n//10%10\n",
    "    b=n//100\n",
    "    sum=g+s+b\n",
    "    return sum\n",
    "n=int(input('输入一个数：'))\n",
    "sumDigits(n)"
   ]
  },
  {
   "cell_type": "code",
   "execution_count": 13,
   "metadata": {},
   "outputs": [
    {
     "name": "stdout",
     "output_type": "stream",
     "text": [
      "请输入坐标:5 6 7 8 \n"
     ]
    },
    {
     "data": {
      "text/plain": [
       "2.8284271247461903"
      ]
     },
     "execution_count": 13,
     "metadata": {},
     "output_type": "execute_result"
    }
   ],
   "source": [
    "import math\n",
    "def distance(x1,y1,x2,y2):\n",
    "    a=x2-x1\n",
    "    b=y2-y1\n",
    "    c=math.sqrt((a**2)+(b**2))\n",
    "    return c\n",
    "x1,y1,x2,y2=map(int,input('请输入坐标:').split())\n",
    "distance(x1,y1,x2,y2)"
   ]
  },
  {
   "cell_type": "code",
   "execution_count": 1,
   "metadata": {},
   "outputs": [
    {
     "name": "stdout",
     "output_type": "stream",
     "text": [
      "请输入第一字符：i\n",
      "请输入第二字符：k\n",
      "请输入每行打印的个数：10\n",
      "i j k "
     ]
    }
   ],
   "source": [
    "def printchars(ch1,ch2,n):\n",
    "    count=0\n",
    "    for i in range(ord(ch1),ord(ch2)+1):\n",
    "        print(chr(i),end=\" \")\n",
    "        count += 1\n",
    "        if count % n == 0:\n",
    "            print()\n",
    "ch1=input('请输入第一字符：')\n",
    "ch2=input('请输入第二字符：')\n",
    "n=int(input('请输入每行打印的个数：'))\n",
    "printchars(ch1,ch2,n)"
   ]
  },
  {
   "cell_type": "code",
   "execution_count": 2,
   "metadata": {},
   "outputs": [
    {
     "name": "stdout",
     "output_type": "stream",
     "text": [
      "本地时间为 : Wed Aug  7 08:16:57 2019\n"
     ]
    }
   ],
   "source": [
    "import time\n",
    "localtime = time.asctime(time.localtime(time.time()))\n",
    "print(\"本地时间为 :\", localtime)"
   ]
  },
  {
   "cell_type": "code",
   "execution_count": 4,
   "metadata": {},
   "outputs": [
    {
     "name": "stdout",
     "output_type": "stream",
     "text": [
      "是素数\n"
     ]
    }
   ],
   "source": [
    "class Name(object):\n",
    "    \n",
    "    def __init__(self,num):\n",
    "        \n",
    "        self.num = num\n",
    "    def Check(self):\n",
    "        \n",
    "        for i in range(2,self.num):\n",
    "            if self.num % i == 0:\n",
    "                print('不是素数')\n",
    "                break\n",
    "        else:\n",
    "            print('是素数')\n",
    "name = Name(29)\n",
    "name.Check()"
   ]
  },
  {
   "cell_type": "code",
   "execution_count": 14,
   "metadata": {},
   "outputs": [
    {
     "name": "stdout",
     "output_type": "stream",
     "text": [
      "本金是：1000\n",
      "年利率是：0.05\n",
      "每年的计息周期数是：10\n",
      "存款年限：5\n",
      "1   1051.14\n",
      "2   1104.90\n",
      "3   1161.40\n",
      "4   1220.79\n",
      "5   1283.23\n"
     ]
    }
   ],
   "source": [
    "def future_value(present_value,annual_rate,  periods_per_year,  years):\n",
    "    \n",
    "    for i in range(1,years+1):\n",
    "        rate_per_period = annual_rate / periods_per_year\n",
    "        periods = periods_per_year * i\n",
    "        print('%d   %.2f'% (i,present_value*((1+rate_per_period)**periods))) \n",
    "present_value=int(input('本金是：'))\n",
    "annual_rate=float(input('年利率是：'))\n",
    "periods_per_year=int(input('每年的计息周期数是：'))\n",
    "years=int(input('存款年限：'))\n",
    "future_value(present_value,annual_rate,  periods_per_year,  years)"
   ]
  },
  {
   "cell_type": "code",
   "execution_count": 15,
   "metadata": {},
   "outputs": [
    {
     "name": "stdout",
     "output_type": "stream",
     "text": [
      "p        2^p-1\n",
      "2         3\n",
      "3         7\n",
      "5         31\n"
     ]
    }
   ],
   "source": [
    "import math\n",
    "def prime():\n",
    "    num=[]\n",
    "    i=2\n",
    "    for i in range(2,32):\n",
    "        j=2\n",
    "        for j in range(2,i):\n",
    "            if(i%j==0):\n",
    "                break\n",
    "        else:\n",
    "            num.append(i)\n",
    "    return num\n",
    "def misen():\n",
    "    print('p        2^p-1')\n",
    "    a=prime()\n",
    "    for p in range(1,32):\n",
    "        for i in range(11):\n",
    "            if (2**p)-1==a[i]:\n",
    "                print(\"%d         %d\" %(p,a[i]))\n",
    "misen()"
   ]
  },
  {
   "cell_type": "code",
   "execution_count": 16,
   "metadata": {},
   "outputs": [
    {
     "name": "stdout",
     "output_type": "stream",
     "text": [
      "5 + 2 = 7\n",
      "你赢了\n"
     ]
    }
   ],
   "source": [
    "import random\n",
    "def shaizi():\n",
    "      a=random.choice([1,2,3,4,5,6])\n",
    "      b=random.choice([1,2,3,4,5,6])\n",
    "      if a+b==2 or  a+b==3 or a+b==12:\n",
    "            print('%d + %d = %d' %(a,b,a+b))\n",
    "            print('你输了')\n",
    "      elif a+b==7 or a+b==11:\n",
    "            print('%d + %d = %d' %(a,b,a+b))\n",
    "            print('你赢了')\n",
    "      else:\n",
    "            print('%d + %d = %d' %(a,b,a+b))\n",
    "            c=random.choice([1,2,3,4,5,6])\n",
    "            d=random.choice([1,2,3,4,5,6])\n",
    "            if c+d==7:\n",
    "                  print('%d + %d = %d' %(c,d,c+d))\n",
    "                  print('你输了')\n",
    "            elif c+d==a+b:\n",
    "                  print('%d + %d = %d' %(c,d,c+d))\n",
    "                  print('你赢了')\n",
    "shaizi()"
   ]
  },
  {
   "cell_type": "code",
   "execution_count": 20,
   "metadata": {},
   "outputs": [
    {
     "name": "stdout",
     "output_type": "stream",
     "text": [
      "对战模式：人机对战or多人对战多人对战\n",
      "多人对战\n",
      "请选择人物：典韦，赵云，鲁班鲁班\n",
      "鲁班 :战力--253，防御--876\n",
      "赵云 :战力--1700，防御--1541\n",
      "请输入开始\n",
      "进入加载.......\n",
      "####################################################################################################100%\r"
     ]
    }
   ],
   "source": [
    "import time\n",
    "import numpy as np\n",
    "class wz(object):\n",
    "    def __init__(self,entry):\n",
    "        self.entry=entry\n",
    "    def jm(self):\n",
    "        self.entry= input('对战模式：人机对战or多人对战')\n",
    "        print(self.entry)\n",
    "    def rw(self):\n",
    "        figure= input('请选择人物：典韦，赵云，鲁班')\n",
    "        if figure== '典韦':\n",
    "            print(figure,\":战力--1500，防御--1647\")\n",
    "        elif figure == '赵云':\n",
    "            print(figure,\":战力--1700，防御--1541\")\n",
    "        else:\n",
    "            print(figure,\":战力--253，防御--876\")\n",
    "    def sj(self):\n",
    "        res =np.random.choice(['典韦','赵云','鲁班'])\n",
    "        if res== '典韦':\n",
    "            print(res,\":战力--1500，防御--1647\")\n",
    "        elif res == '赵云':\n",
    "            print (res,\":战力--1700，防御--1541\")\n",
    "        else:\n",
    "            print(res,\":战力--253，防御--876\")\n",
    "    def start(self):\n",
    "        b=input(\"请输入开始\")\n",
    "        print('进入加载.......')\n",
    "    def s(self):\n",
    "        for i in range(1,101):\n",
    "            time.sleep(0.5)\n",
    "            print('%s%d%%\\r'%('#'*i,i),end=\"\",flush='true')\n",
    "WZ=wz('人机')\n",
    "WZ.jm()\n",
    "WZ.rw()\n",
    "WZ.sj()\n",
    "WZ.start()\n",
    "WZ.s()"
   ]
  },
  {
   "cell_type": "code",
   "execution_count": null,
   "metadata": {},
   "outputs": [],
   "source": []
  }
 ],
 "metadata": {
  "kernelspec": {
   "display_name": "Python 3",
   "language": "python",
   "name": "python3"
  },
  "language_info": {
   "codemirror_mode": {
    "name": "ipython",
    "version": 3
   },
   "file_extension": ".py",
   "mimetype": "text/x-python",
   "name": "python",
   "nbconvert_exporter": "python",
   "pygments_lexer": "ipython3",
   "version": "3.6.4"
  }
 },
 "nbformat": 4,
 "nbformat_minor": 2
}
