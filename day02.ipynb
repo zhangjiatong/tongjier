{
 "cells": [
  {
   "cell_type": "code",
   "execution_count": 31,
   "metadata": {},
   "outputs": [
    {
     "name": "stdout",
     "output_type": "stream",
     "text": [
      "请输入用户名：we\n",
      "请输入登录密码wer\n",
      "确认密码：rty\n",
      "密码不一致\n"
     ]
    }
   ],
   "source": [
    "class youxiang(object):\n",
    "    def user (self,name,password,confirmpw):\n",
    "        self.name=name\n",
    "        self.password=password\n",
    "        self.confirmpw=confirmpw\n",
    "name=input(\"请输入用户名：\")\n",
    "password=input('请输入登录密码')\n",
    "confirmpw=input('确认密码：')\n",
    "if password==confirmpw:\n",
    "    print(\"密码正确\")\n",
    "else:\n",
    "    print(\"密码不一致\")\n",
    "    def cishu(i):\n",
    "        for i in range(1,5):\n",
    "            print(i)\n",
    "\n",
    "    \n",
    "    "
   ]
  },
  {
   "cell_type": "code",
   "execution_count": 5,
   "metadata": {},
   "outputs": [
    {
     "name": "stdout",
     "output_type": "stream",
     "text": [
      "<__main__.yinsi object at 0x000002046FDEDE10>\n",
      "\n"
     ]
    }
   ],
   "source": [
    "class yinsi(object):\n",
    "    def __init__ (self):\n",
    "        self._mimi='秘密'\n",
    "        self._mima='000000'\n",
    "        \n",
    "    @property\n",
    "    def mimi(self):\n",
    "        return self._mimi\n",
    "        \n",
    "        \n",
    "    @mimi.setter\n",
    "    def mimi(self,str_):\n",
    "        self._mimi = str_\n",
    "a = yinsi()\n",
    "print(yinsi())\n",
    "yinsi.mimi='happy'\n",
    "print()\n",
    "    "
   ]
  },
  {
   "cell_type": "code",
   "execution_count": 28,
   "metadata": {},
   "outputs": [
    {
     "name": "stdout",
     "output_type": "stream",
     "text": [
      "面积为： 160\n",
      "周长为： 88\n",
      "面积为： 124.95000000000002\n",
      "周长为： 78.4\n"
     ]
    }
   ],
   "source": [
    "\n",
    "class Rectangle(object):\n",
    "    def __init__(self,width,height):\n",
    "        self.width = width\n",
    "        self.height = height\n",
    "    def getArea (self):\n",
    "        a=self.width * self.height\n",
    "        print(\"面积：\",a)\n",
    "    def getPerimeter(self):\n",
    "        b=2*self.width+2*self.height\n",
    "        print(\"周长：\",b)\n",
    "po1 = Rectangle(4,40)\n",
    "po1.getArea()\n",
    "po1.getPerimeter()\n",
    "\n",
    "po2 = Rectangle(3.5,35.7)\n",
    "po2.getArea()\n",
    "po2.getPerimeter()\n"
   ]
  },
  {
   "cell_type": "code",
   "execution_count": 29,
   "metadata": {},
   "outputs": [
    {
     "name": "stdout",
     "output_type": "stream",
     "text": [
      "请输入取钱金额\n",
      "输入10000\n",
      "您成功取出 10000 元\n",
      "请输入存钱金额\n",
      "输入88888\n",
      "您成功存入 88888 元\n",
      "1122 您账户余额为： 98888 利率为： 0.045 利息为 900.0\n"
     ]
    }
   ],
   "source": [
    "class Account(object):\n",
    "    def __init__(self):\n",
    "        self.lilv=0\n",
    "        self.ann=100\n",
    "        self.lixi=0\n",
    "    def shuju(self,id,ann):\n",
    "        self.id=id\n",
    "        self.ann=ann\n",
    "    def getMonthlyInterestRate(self,lilv):\n",
    "        self.lilv=lilv\n",
    "    def getMonthlyInterest(self):\n",
    "        q=self.ann*self.lilv\n",
    "        self.lixi=q\n",
    "    def withdraw(self):\n",
    "        print(\"请输入取钱金额\")\n",
    "        res = input(\"输入\")\n",
    "        self.ann = self.ann - int(res)\n",
    "        print(\"您成功取出\",res,\"元\")\n",
    "    def deposit(self):\n",
    "        print(\"请输入存钱金额\")\n",
    "        res1=input(\"输入\")\n",
    "        self.ann=self.ann+int(res1)\n",
    "        print(\"您成功存入\",res1,\"元\")\n",
    "    def dayin(self):\n",
    "        print(self.id,\"您账户余额为：\",self.ann,\"利率为：\",self.lilv,\"利息为\",self.lixi)\n",
    "        \n",
    "qwe = Account()\n",
    "qwe.shuju(1122,20000)\n",
    "qwe.getMonthlyInterestRate(0.045)\n",
    "qwe.getMonthlyInterest()\n",
    "qwe.withdraw()\n",
    "qwe.deposit()\n",
    "qwe.dayin()"
   ]
  },
  {
   "cell_type": "code",
   "execution_count": 3,
   "metadata": {},
   "outputs": [
    {
     "name": "stdout",
     "output_type": "stream",
     "text": [
      "yellow颜色的风扇，它的半径为：10,风速为：FAST,打开状态：true\n",
      "blue颜色的风扇，它的半径为：5,风速为：MEDIUM,打开状态：Flase\n"
     ]
    }
   ],
   "source": [
    "class Fan(object):\n",
    "\n",
    "    def __init__(self,speed,on,radius,color):\n",
    "        self._speed=speed\n",
    "        if speed==\"1\":\n",
    "            self._speed=\"SLOW\"\n",
    "        elif speed==\"2\":\n",
    "            self._speed=\"MEDIUM\"\n",
    "        elif speed==\"3\":\n",
    "            self._speed=\"FAST\"\n",
    "        self._on=on\n",
    "        self._radius=radius\n",
    "        self._color=color\n",
    "    def fengshan(self):\n",
    "        print(self._color+\"颜色的风扇，\"+\"它的半径为：\"+self._radius+\",风速为：\"+self._speed+\",打开状态：\"+self._on)\n",
    "\n",
    "f=Fan(\"3\",\"true\",\"10\",\"yellow\")\n",
    "d=Fan(\"2\",\"Flase\",\"5\",\"blue\")\n",
    "f.fengshan()\n",
    "d.fengshan()"
   ]
  },
  {
   "cell_type": "code",
   "execution_count": 2,
   "metadata": {},
   "outputs": [
    {
     "name": "stdout",
     "output_type": "stream",
     "text": [
      "多边形周长：24.000000\n"
     ]
    }
   ],
   "source": [
    "class RegularPolygon(object):\n",
    "    def __init__(self,n,side,x,y):\n",
    "        self._n = n\n",
    "        self._side = side\n",
    "        self._x = x\n",
    "        self._y = y\n",
    "    def getPerimeter(self):\n",
    "        print(\"多边形周长：%f\"%(self._n*self._side))\n",
    "re = RegularPolygon(6,4,0,0)\n",
    "re.getPerimeter()"
   ]
  },
  {
   "cell_type": "code",
   "execution_count": 1,
   "metadata": {},
   "outputs": [
    {
     "name": "stdout",
     "output_type": "stream",
     "text": [
      "x的值：10\n",
      "y的值:-7\n",
      "true\n"
     ]
    }
   ],
   "source": [
    "class LinearEquation(object):\n",
    "    def __init__(self,a,b,c,d,e,f):\n",
    "        self._a = a\n",
    "        self._b = b\n",
    "        self._c = c\n",
    "        self._d = d\n",
    "        self._e = e\n",
    "        self._f = f\n",
    "    def getX(self):\n",
    "        x=(self._e*self._d-self._b*self._f)-(self._a*self._d-self._b*self._c)\n",
    "        print(\"x的值：%d\"%x)\n",
    "    def getY(self):\n",
    "        y=(self._a*self._f-self._e*self._c)-(self._a*self._d-self._b*self._c)\n",
    "        print(\"y的值:%d\"%y)\n",
    "    def isSolvable(self):\n",
    "        if (self._a*self._b)-(self._b*self._c)!=0:\n",
    "            print(\"true\")\n",
    "        else:\n",
    "            print(\"这个方程无解\")\n",
    "test=LinearEquation(1,2,3,4,5,6)\n",
    "test.getX()\n",
    "test.getY()\n",
    "test.isSolvable()"
   ]
  },
  {
   "cell_type": "code",
   "execution_count": 1,
   "metadata": {},
   "outputs": [
    {
     "name": "stdout",
     "output_type": "stream",
     "text": [
      "-4.0\n",
      "4.5\n"
     ]
    }
   ],
   "source": [
    "class LinearEquation(object):\n",
    "    def __init__(self,a,b,c,d,e,f):\n",
    "        self.__a=a\n",
    "        self.__b=b\n",
    "        self.__c=c\n",
    "        self.__d=d\n",
    "        self.__e=e\n",
    "        self.__f=f\n",
    "        self.x=0\n",
    "        self.y=0\n",
    "        self.z=0\n",
    "    def isSolvable(self):\n",
    "        z=self.__a*self.__d-self.__b*self.__c\n",
    "        if z !=0:\n",
    "            self.z=True\n",
    "        else:\n",
    "            self.z=False\n",
    "    def get(self):\n",
    "        self.x=(self.__e*self.__d-self.__b*self.__f)/(self.__a*self.__d-self.__b*self.__c)\n",
    "        self.y=(self.__a*self.__f-self.__e*self.__c)/(self.__a*self.__d-self.__b*self.__c)\n",
    "    def getX(self):\n",
    "        self.isSolvable()\n",
    "        if self.z == True:\n",
    "            self.get()\n",
    "            print(self.x)\n",
    "        else:\n",
    "            pass\n",
    "    def getY(self):\n",
    "        self.isSolvable()\n",
    "        if self.z == True:\n",
    "            self.get()\n",
    "            print(self.y)\n",
    "        else:\n",
    "            pass\n",
    "        \n",
    "qwe=LinearEquation(1,2,3,4,5,6)\n",
    "qwe.getX()\n",
    "qwe.getY()"
   ]
  },
  {
   "cell_type": "code",
   "execution_count": null,
   "metadata": {},
   "outputs": [
    {
     "name": "stdout",
     "output_type": "stream",
     "text": [
      "对战模式：人机对战or多人对战人机对战\n",
      "人机对战\n",
      "请选择人物：典韦，赵云，鲁班鲁班\n",
      "鲁班 :战力--253，防御--876\n",
      "典韦 :战力--1500，防御--1647\n",
      "请输入开始开始\n",
      "进入加载.......\n",
      "######################################################################################86%\r"
     ]
    }
   ],
   "source": [
    "#王者荣耀\n",
    "import time\n",
    "import numpy as np\n",
    "class wz(object):\n",
    "    def __init__(self,entry):\n",
    "        self.entry=entry\n",
    "    def jm(self):\n",
    "        self.entry= input('对战模式：人机对战or多人对战')\n",
    "        print(self.entry)\n",
    "    def rw(self):\n",
    "        figure= input('请选择人物：典韦，赵云，鲁班')\n",
    "        if figure== '典韦':\n",
    "            print(figure,\":战力--1500，防御--1647\")\n",
    "        elif figure == '赵云':\n",
    "            print(figure,\":战力--1700，防御--1541\")\n",
    "        else:\n",
    "            print(figure,\":战力--253，防御--876\")\n",
    "    def sj(self):\n",
    "        res =np.random.choice(['典韦','赵云','鲁班'])\n",
    "        if res== '典韦':\n",
    "            print(res,\":战力--1500，防御--1647\")\n",
    "        elif res == '赵云':\n",
    "            print (res,\":战力--1700，防御--1541\")\n",
    "        else:\n",
    "            print(res,\":战力--253，防御--876\")\n",
    "    def start(self):\n",
    "        b=input(\"请输入开始\")\n",
    "        print('进入加载.......')\n",
    "    def s(self):\n",
    "        for i in range(1,101):\n",
    "            time.sleep(1)\n",
    "            print('%s%d%%\\r'%('#'*i,i),end=\"\",flush='true')\n",
    "WZ=wz('人机')\n",
    "WZ.jm()\n",
    "WZ.rw()\n",
    "WZ.sj()\n",
    "WZ.start()\n",
    "WZ.s()"
   ]
  },
  {
   "cell_type": "code",
   "execution_count": null,
   "metadata": {},
   "outputs": [],
   "source": []
  }
 ],
 "metadata": {
  "kernelspec": {
   "display_name": "Python 3",
   "language": "python",
   "name": "python3"
  },
  "language_info": {
   "codemirror_mode": {
    "name": "ipython",
    "version": 3
   },
   "file_extension": ".py",
   "mimetype": "text/x-python",
   "name": "python",
   "nbconvert_exporter": "python",
   "pygments_lexer": "ipython3",
   "version": "3.6.4"
  }
 },
 "nbformat": 4,
 "nbformat_minor": 2
}
