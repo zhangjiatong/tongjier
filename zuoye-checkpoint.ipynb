{
 "cells": [
  {
   "cell_type": "code",
   "execution_count": null,
   "metadata": {},
   "outputs": [],
   "source": [
    "import requests\n",
    "def zz():\n",
    "    url = ['http://www.17k.com/book/2754498.html','http://top.17k.com/']\n",
    "    file = 'C:\\\\Users\\\\dell\\\\Desktop\\\\haha.html'\n",
    "    with open('C:\\\\Users\\\\dell\\\\Desktop\\\\haha.html','a',encoding='utf-8') as f:\n",
    "        for i in range(2):\n",
    "            header= {'User-Agent':'Mozilla/5.0 (Windows NT 10.0; WOW64) AppleWebKit/537.36 (KHTML, like Gecko) Chrome/66.0.3359.139 Safari/537.36'}\n",
    "            respose = requests.get('http://www.17k.com/book/2754498.html',headers=header)\n",
    "            f.write(respose.text)"
   ]
  }
 ],
 "metadata": {
  "kernelspec": {
   "display_name": "Python 3",
   "language": "python",
   "name": "python3"
  },
  "language_info": {
   "codemirror_mode": {
    "name": "ipython",
    "version": 3
   },
   "file_extension": ".py",
   "mimetype": "text/x-python",
   "name": "python",
   "nbconvert_exporter": "python",
   "pygments_lexer": "ipython3",
   "version": "3.6.4"
  }
 },
 "nbformat": 4,
 "nbformat_minor": 2
}
