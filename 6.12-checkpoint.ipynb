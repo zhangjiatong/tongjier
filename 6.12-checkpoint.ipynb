{
 "cells": [
  {
   "cell_type": "code",
   "execution_count": 1,
   "metadata": {},
   "outputs": [
    {
     "name": "stdout",
     "output_type": "stream",
     "text": [
      "['https://www.baidu.com/', 'http://tieba.baidu.com/', 'https://zhidao.baidu.com/', 'http://music.baidu.com/', 'http://image.baidu.com/', 'http://v.baidu.com/', 'http://map.baidu.com/', 'http://wenku.baidu.com/', 'http://news.baidu.com/', '//help.baidu.com', '//news.baidu.com/z/resource/pc/staticpage/advanced_news.html', '//news.baidu.com/z/resource/pc/staticpage/pianhao.html', '/', '/guonei', '/guoji', '/mil', '/finance', '/ent', '/sports', '/internet', '/tech', '/game', '/lady', '/auto', '/house', 'http://jian.news.baidu.com/', '/', '/guonei', '/guoji', '/mil', '/finance', '/ent', '/sports', '/internet', '/tech', '/game', '/lady', '/auto', '/house', 'http://jian.news.baidu.com/', 'javascript:void(0);', 'http://news.cctv.com/2018/06/12/ARTIKTpPxxfTIRVNwq81hLFs180612.shtml', 'https://app.peopleapp.com/Api/600/DetailApi/shareArticle?type=0&article_id=1823144&from=groupmessage&isappinstalled=0', 'http://theory.people.com.cn/n1/2018/0611/c40531-30049024.html?from=singlemessage', 'http://news.cnr.cn/native/gd/20180612/t20180612_524267592.shtml', 'http://news.china.com.cn/2018-06/12/content_52060465.htm', 'http://china.chinadaily.com.cn/2018-06/10/content_36362219.htm', 'http://politics.people.com.cn/n1/2018/0610/c1024-30048459.html', 'http://kuaibao.qq.com/s/20180611A03B3200?refer=', 'http://www.chinanews.com/gn/2018/06-11/8535035.shtml', 'http://www.chinanews.com/gn/2018/06-11/8535032.shtml', 'http://news.youth.cn/sz/201806/t20180611_11641172.htm', 'https://3w.huanqiu.com/a/4e2d56fd65b095fb7f51/7DFPu2IoW9G?agt=8', 'http://news.ifeng.com/a/20180612/58683555_0.shtml?_zbs_baidu_news', 'https://3w.huanqiu.com/a/73af74037f51/7DFZj1fPqxy?agt=8', 'http://xinwen.eastday.com/a/xjump.html?id=n180612170859455', 'https://3w.huanqiu.com/a/2b7ceb/7DFLau8wdt6?agt=8', 'http://news.ifeng.com/a/20180612/58687699_0.shtml?_zbs_baidu_news', 'https://3w.huanqiu.com/a/24dddc/7DG06rSEAtG?agt=8', 'http://news.ifeng.com/a/20180612/58684821_0.shtml?_zbs_baidu_news', 'https://3w.huanqiu.com/a/m-4eba6c1165e562a55ba262377aef/7DG5ibF28bm?agt=8', 'http://news.ifeng.com/a/20180612/58679805_0.shtml?_zbs_baidu_news', 'http://xinwen.eastday.com/a/xjump.html?id=n180612171231199', 'https://3w.huanqiu.com/a/65b0534e7f51/7DG662xiFHO?agt=8', 'http://news.ifeng.com/a/20180612/58686009_0.shtml?_zbs_baidu_news', 'https://3w.huanqiu.com/a/73af74037f51/7DFXhMVinVm?agt=8', 'https://3w.huanqiu.com/a/73af740365f662a5/7DG2E9MTxq8?agt=8', 'https://3w.huanqiu.com/a/0c789f/7DFQuO2FHGg?agt=8', 'http://xinwen.eastday.com/a/xjump.html?id=180612111026123', 'http://news.ifeng.com/a/20180612/58683364_0.shtml?_zbs_baidu_news', 'https://3w.huanqiu.com/a/65b06c11665a62a5/7DG4UpQjeSI?agt=8', 'http://news.ifeng.com/a/20180612/58685009_0.shtml?_zbs_baidu_news', 'http://news.ifeng.com/a/20180612/58682525_0.shtml?_zbs_baidu_news', 'http://xinwen.eastday.com/a/xjump.html?id=180612142836285', 'http://news.ifeng.com/a/20180612/58679778_0.shtml?_zbs_baidu_news', 'http://xinwen.eastday.com/a/xjump.html?id=180612135446805', 'https://3w.huanqiu.com/a/78e6eb/7DG1tdfXcaI?agt=8', 'https://3w.huanqiu.com/a/65b0534e7f51/7DFV6OUnjSo?agt=8', 'http://xinwen.eastday.com/a/xjump.html?id=n180612142711264', 'http://xinwen.eastday.com/a/xjump.html?id=180612144819254', 'http://news.youth.cn/gn/201806/t20180612_11642033.htm', 'http://m.ifeng.com/vampire/l68hmW2s/shareNews?&fromType=vampire&aid=64640922', 'javascript:void(0);', 'javascript:void(0);', 'javascript:void(0);', 'javascript:void(0);', 'javascript:void(0);', 'https://www.baidu.com/s?wd=%E4%B9%A0%E8%BF%91%E5%B9%B3%E4%B8%BB%E6%8C%81%E4%B8%8A%E5%90%88%E7%BB%84%E7%BB%87%E9%9D%92%E5%B2%9B%E5%B3%B0%E4%BC%9A%E5%B9%B6%E5%8F%91%E8%A1%A8%E9%87%8D%E8%A6%81%E8%AE%B2%E8%AF%9D', 'https://www.baidu.com/s?wd=%E4%B9%A0%E8%BF%91%E5%B9%B3%EF%BC%9A%E4%B8%8A%E5%90%88%E7%BB%84%E7%BB%87%E7%9A%84%E6%98%8E%E5%A4%A9%E4%B8%80%E5%AE%9A%E4%BC%9A%E6%9B%B4%E5%8A%A0%E7%BE%8E%E5%A5%BD%EF%BC%81', 'https://www.baidu.com/s?wd=%E5%9B%BD%E4%BC%81%E5%B7%A5%E8%B5%84%E6%94%B9%E9%9D%A92019%E5%B9%B4%E5%B0%86%E5%85%A8%E9%9D%A2%E5%AE%9E%E6%96%BD', 'https://www.baidu.com/s?wd=%E6%96%B0%E8%83%BD%E6%BA%90%E8%BD%A6%E8%A1%A5%E8%B4%B4%E6%96%B0%E6%94%BF%E5%8F%96%E6%B6%88%E7%BB%AD%E8%88%AA150%E5%85%AC%E9%87%8C%E4%BB%A5%E4%B8%8B%E8%A1%A5%E8%B4%B4', 'https://www.baidu.com/s?wd=%E5%8D%8F%E8%AD%A6%E8%A2%AB%E8%B5%9E%E4%B8%BA%E6%9C%80%E5%B8%85%E6%91%86%E6%B8%A1%E4%BA%BA', 'https://www.baidu.com/s?wd=%E6%B5%B7%E5%85%B3%E7%BD%9A%E6%B2%A1%E6%96%87%E7%89%A9%E4%BA%AE%E7%9B%B8', 'https://www.baidu.com/s?wd=2018%E5%B9%B4%E5%90%84%E7%9C%81%E5%B8%82%E9%AB%98%E8%80%83%E6%88%90%E7%BB%A9%E6%94%BE%E6%A6%9C%E6%97%B6%E9%97%B4%E9%99%86%E7%BB%AD%E5%85%AC%E5%B8%83', 'https://www.baidu.com/s?wd=%E4%B8%9C%E9%A3%8E-41%E2%80%9C%E4%B8%96%E7%95%8C%E7%AC%AC%E4%B8%80%E2%80%9D', 'https://www.baidu.com/s?wd=%E4%B8%8A%E6%B5%B7%E8%87%B3%E6%9D%AD%E5%B7%9E%E6%88%96%E5%BB%BA%E8%B6%85%E7%BA%A7%E9%AB%98%E9%93%81', 'https://www.baidu.com/s?wd=16%E4%B8%87%E7%BD%91%E5%8F%8B%E8%B5%9E%E8%BF%99%E5%8F%AA%E6%89%8B', 'http://baijiahao.baidu.com/s?id=1602963493954404485', 'http://baijiahao.baidu.com/s?id=1602963493954404485', 'http://baijiahao.baidu.com/s?id=1602883350886528624', 'http://baijiahao.baidu.com/s?id=1602883350886528624', 'http://baijiahao.baidu.com/s?id=1602949643058437801', 'http://baijiahao.baidu.com/s?id=1602949643058437801', 'https://baijia.baidu.com/s?id=1603038837933217613', '', 'https://baijia.baidu.com/s?id=1603031796684737307', '', 'https://baijia.baidu.com/s?id=1603030175185575910', '', 'https://baijia.baidu.com/s?id=1603027006092389905', '', 'https://baijia.baidu.com/s?id=1603023727894683906', '', 'https://baijia.baidu.com/s?id=1602988316759302580', '', 'https://baijia.baidu.com/s?id=1602987582602372892', '', 'https://baijia.baidu.com/s?id=1602986075511206907', '', 'https://baijia.baidu.com/s?id=1602985219468190953', '', 'https://baijia.baidu.com/s?id=1602982834147510381', '', 'http://baijiahao.baidu.com/s?id=1602927794420720574', 'http://baijiahao.baidu.com/s?id=1602927794420720574', 'javascript:void(0);', 'javascript:void(0);', 'https://baijia.baidu.com/s?id=1603027006092389905', 'https://baijia.baidu.com/u?app_id=1536766629667262', 'https://baijia.baidu.com/s?id=1602948213149828621', 'https://baijia.baidu.com/u?app_id=1536766821008995', 'https://baijia.baidu.com/s?id=1602980117599735665', 'https://baijia.baidu.com/u?app_id=1536766474050767', 'https://baijia.baidu.com/s?id=1602988316759302580', 'https://baijia.baidu.com/u?app_id=1536771172603979', 'https://baijia.baidu.com/s?id=1603031796684737307', 'https://baijia.baidu.com/u?app_id=1536770476292720', 'https://baijia.baidu.com/s?id=1603027006092389905', 'https://baijia.baidu.com/u?app_id=1536766629667262', 'https://baijia.baidu.com/s?id=1602948213149828621', 'https://baijia.baidu.com/u?app_id=1536766821008995', 'https://baijia.baidu.com/s?id=1602980117599735665', 'https://baijia.baidu.com/u?app_id=1536766474050767', 'https://baijia.baidu.com/s?id=1602988316759302580', 'https://baijia.baidu.com/u?app_id=1536771172603979', 'https://baijia.baidu.com/s?id=1603031796684737307', 'https://baijia.baidu.com/u?app_id=1536770476292720', '', '', 'http://report.12377.cn:13225/toreportinputNormal_anis.do', 'javascript:void(0);', 'javascript:void(0);', 'javascript:void(0);', 'javascript:void(0);', 'http://downpack.baidu.com/baidunews_AndroidPhone_1014720b.apk', 'https://itunes.apple.com/cn/app/id482820737', 'http://newsalert.baidu.com/na?cmd=0', '//news.baidu.com/z/resource/pc/staticpage/newscode.html', 'https://news.baidu.com/z/resource/wap/protocol/baidu_news_protocol.html', 'https://www.baidu.com/duty/wise/wise_secretright.html', '//help.baidu.com/newadd?prod_id=5&category=1', '//news.baidu.com/licence.html', '#{url}', '#{url}', 'javascript:void(0);', '/sh', '#{url}', '/sh', '#{url}', '#{url}', '#{url}', '#{url}', '#{url}', '#{url}', '#{url}', '#{url}', '#{url}']\n"
     ]
    }
   ],
   "source": [
    "import requests\n",
    "response = requests.get('http://news.baidu.com/')\n",
    "import re\n",
    "a = response.text\n",
    "result = re.findall('<a\\shref=\"(.*?)\"',a)\n",
    "print(result)"
   ]
  },
  {
   "cell_type": "code",
   "execution_count": null,
   "metadata": {},
   "outputs": [],
   "source": []
  }
 ],
 "metadata": {
  "kernelspec": {
   "display_name": "Python 3",
   "language": "python",
   "name": "python3"
  },
  "language_info": {
   "codemirror_mode": {
    "name": "ipython",
    "version": 3
   },
   "file_extension": ".py",
   "mimetype": "text/x-python",
   "name": "python",
   "nbconvert_exporter": "python",
   "pygments_lexer": "ipython3",
   "version": "3.6.4"
  }
 },
 "nbformat": 4,
 "nbformat_minor": 2
}
